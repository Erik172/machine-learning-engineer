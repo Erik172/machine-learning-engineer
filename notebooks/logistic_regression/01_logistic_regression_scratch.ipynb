{
 "cells": [
  {
   "cell_type": "code",
   "execution_count": 1,
   "metadata": {},
   "outputs": [],
   "source": [
    "import math\n",
    "import copy\n",
    "import numpy as np\n",
    "import matplotlib.pyplot as plt\n",
    "import seaborn as sns\n",
    "import warnings"
   ]
  },
  {
   "cell_type": "code",
   "execution_count": 2,
   "metadata": {},
   "outputs": [],
   "source": [
    "sns.set_style('darkgrid')\n",
    "plt.rcParams['figure.dpi'] = 80\n",
    "plt.rcParams['savefig.dpi'] = 100\n",
    "warnings.filterwarnings('ignore')"
   ]
  },
  {
   "cell_type": "code",
   "execution_count": 3,
   "metadata": {},
   "outputs": [],
   "source": [
    "X_train = np.array([[0.5, 1.5], [.6,.75], [1,1], [1.5, 0.5], [3, 0.5], [2, 2], [1, 2.5], [2.5, 1.5]])\n",
    "y_train = np.array([0, 0, 0, 0, 1, 1, 1, 1])"
   ]
  },
  {
   "cell_type": "code",
   "execution_count": 12,
   "metadata": {},
   "outputs": [
    {
     "data": {
      "image/png": "[encoded data removed]",
      "text/plain": [
       "<Figure size 800x480 with 1 Axes>"
      ]
     },
     "metadata": {},
     "output_type": "display_data"
    }
   ],
   "source": [
    "plt.figure(figsize=(10, 6))\n",
    "\n",
    "sns.scatterplot(\n",
    "    x=X_train[:, 0], \n",
    "    y=X_train[:, 1], \n",
    "    hue=y_train, \n",
    "    palette='Set1',\n",
    "    s=100,\n",
    "    edgecolor='black',\n",
    "    linewidth=.7,\n",
    "    alpha=.7\n",
    ")\n",
    "\n",
    "plt.xlabel('Feature 1')\n",
    "plt.ylabel('Feature 2')\n",
    "plt.title('Training data')\n",
    "plt.show()"
   ]
  },
  {
   "cell_type": "code",
   "execution_count": 13,
   "metadata": {},
   "outputs": [],
   "source": [
    "def sigmoid(x):\n",
    "    \"\"\"Sigmoid function\"\"\"\n",
    "    return 1 / (1 + np.exp(-x))"
   ]
  },
  {
   "cell_type": "markdown",
   "metadata": {},
   "source": [
    "## Cost Logistic Regression"
   ]
  },
  {
   "cell_type": "markdown",
   "metadata": {},
   "source": [
    "```markdown\n",
    "J(w, b) = -1/m * Σ [y^(i) * log(a^(i)) + (1 - y^(i)) * log(1 - a^(i))]\n",
    "```\n",
    "\n",
    "Donde:\n",
    "\n",
    "- `J(w, b)` es la función de costo.\n",
    "- `m` es el número de ejemplos en el conjunto de datos.\n",
    "- `y^(i)` es la etiqueta verdadera del i-ésimo ejemplo.\n",
    "- `a^(i)` es la predicción del modelo para el i-ésimo ejemplo (la salida de la función sigmoide).\n",
    "- `log` es el logaritmo natural.\n",
    "- `Σ` indica la suma sobre todos los ejemplos en el conjunto de datos."
   ]
  },
  {
   "cell_type": "code",
   "execution_count": 14,
   "metadata": {},
   "outputs": [],
   "source": [
    "def get_cost_logistic_regression(X, y, w, b):\n",
    "    m = X.shape[0]\n",
    "    z = np.dot(X, w) + b\n",
    "    a = sigmoid(z)\n",
    "    cost = (-1 / m) * np.sum(y * np.log(a) + (1 - y) * np.log(1 - a))\n",
    "    return cost"
   ]
  },
  {
   "cell_type": "markdown",
   "metadata": {},
   "source": [
    "## Logistic Gradient Descent"
   ]
  },
  {
   "cell_type": "markdown",
   "metadata": {},
   "source": [
    "Las fórmulas para los gradientes son las siguientes:\n",
    "\n",
    "Para `w` (los pesos):\n",
    "\n",
    "```markdown\n",
    "dJ/dw = 1/m * Σ [(y_hat^(i) - y^(i)) * X^(i)]\n",
    "```\n",
    "\n",
    "Para `b` (el sesgo):\n",
    "\n",
    "```markdown\n",
    "dJ/db = 1/m * Σ [y_hat^(i) - y^(i)]\n",
    "```\n",
    "\n",
    "Donde:\n",
    "\n",
    "- `dJ/dw` y `dJ/db` son los gradientes de la función de costo `J` con respecto a `w` y `b`, respectivamente.\n",
    "- `m` es el número de ejemplos en el conjunto de datos.\n",
    "- `y_hat^(i)` es la predicción del modelo para el i-ésimo ejemplo (la salida de la función sigmoide).\n",
    "- `y^(i)` es la etiqueta verdadera del i-ésimo ejemplo.\n",
    "- `X^(i)` es el i-ésimo ejemplo.\n",
    "- `Σ` indica la suma sobre todos los ejemplos en el conjunto de datos."
   ]
  },
  {
   "cell_type": "code",
   "execution_count": 15,
   "metadata": {},
   "outputs": [],
   "source": [
    "def get_grandient_logistic(X, y, w, b):\n",
    "    m, n = X.shape\n",
    "    d_dw = np.zeros(w.shape)\n",
    "    d_db = 0\n",
    "\n",
    "    for i in range(m):\n",
    "        y_hat = sigmoid(np.dot(w, X[i]) + b)\n",
    "        error = y_hat - y[i]\n",
    "        for j in range(n):\n",
    "            d_dw[j] += error * X[i][j]\n",
    "        d_db += error\n",
    "\n",
    "    d_dw /= m\n",
    "    d_db /= m\n",
    "\n",
    "    return d_dw, d_db"
   ]
  },
  {
   "cell_type": "code",
   "execution_count": 16,
   "metadata": {},
   "outputs": [],
   "source": [
    "def get_gradient_descent(X, y, w_in, b_in, alpha, num_iter):\n",
    "    # An array to store the cost function values\n",
    "    J = []\n",
    "    w = copy.deepcopy(w_in)\n",
    "    b = b_in\n",
    "\n",
    "    for i in range(num_iter):\n",
    "        d_dw, d_db = get_grandient_logistic(X, y, w, b)\n",
    "\n",
    "        w = w - alpha * d_dw\n",
    "        b = b - alpha * d_db\n",
    "\n",
    "        if i < 1000000: # prevent resource exhaustion\n",
    "            J.append(get_cost_logistic_regression(X, y, w, b))\n",
    "\n",
    "        # Print cost every at intervals 10 times or as many iterations if < 10\n",
    "        if i % math.ceil(num_iter / 10) == 0:\n",
    "            print(f\"Iteration {i}: Cost = {J[-1]}\")\n",
    "\n",
    "    return w, b, J"
   ]
  },
  {
   "cell_type": "markdown",
   "metadata": {},
   "source": [
    "### Runing Test"
   ]
  },
  {
   "cell_type": "code",
   "execution_count": 17,
   "metadata": {},
   "outputs": [
    {
     "name": "stdout",
     "output_type": "stream",
     "text": [
      "Iteration 0: Cost = 0.6814866737263827\n",
      "Iteration 1000: Cost = 0.13539410699984694\n",
      "Iteration 2000: Cost = 0.07381173232464065\n",
      "Iteration 3000: Cost = 0.0507407047759654\n",
      "Iteration 4000: Cost = 0.03868417728527178\n",
      "Iteration 5000: Cost = 0.031274198173315386\n",
      "Iteration 6000: Cost = 0.02625718046790502\n",
      "Iteration 7000: Cost = 0.022634058818890933\n",
      "Iteration 8000: Cost = 0.01989409453073212\n",
      "Iteration 9000: Cost = 0.017749006363703107\n",
      "\n",
      "updated parameters: w:[5.03040469 4.80919804], b:-13.488871642723131\n"
     ]
    }
   ],
   "source": [
    "w_tmp  = np.zeros_like(X_train[0])\n",
    "b_tmp  = 0.\n",
    "alph = 0.1\n",
    "iters = 10000\n",
    "\n",
    "w_out, b_out, _ = get_gradient_descent(X_train, y_train, w_tmp, b_tmp, alph, iters) \n",
    "print(f\"\\nupdated parameters: w:{w_out}, b:{b_out}\")"
   ]
  },
  {
   "cell_type": "markdown",
   "metadata": {},
   "source": [
    "### Plot"
   ]
  },
  {
   "cell_type": "code",
   "execution_count": 19,
   "metadata": {},
   "outputs": [
    {
     "data": {
      "image/png": "[encoded data removed]",
      "text/plain": [
       "<Figure size 640x400 with 1 Axes>"
      ]
     },
     "metadata": {},
     "output_type": "display_data"
    }
   ],
   "source": [
    "plt.figure(figsize=(8, 5))\n",
    "\n",
    "sns.scatterplot(\n",
    "    x=X_train[:, 0], \n",
    "    y=X_train[:, 1], \n",
    "    hue=y_train, \n",
    "    palette='Set1',\n",
    "    s=100,\n",
    "    edgecolor='black',\n",
    "    linewidth=.7,\n",
    "    alpha=.7\n",
    ")\n",
    "\n",
    "plt.xlabel('Feature 1')\n",
    "plt.ylabel('Feature 2')\n",
    "plt.title('Training data')\n",
    "\n",
    "x0 = -b_out / w_out[0]\n",
    "x1 = -b_out / w_out[1]\n",
    "\n",
    "plt.plot([0, x1], [x1, 0], 'k--', label='Decision Boundary')\n",
    "plt.legend()\n",
    "plt.show()"
   ]
  },
  {
   "cell_type": "markdown",
   "metadata": {},
   "source": [
    "# Predict"
   ]
  },
  {
   "cell_type": "markdown",
   "metadata": {},
   "source": [
    "if $f(x^{(i)}) >= 0.5$, predict $y^{(i)}=1$\n",
    "  \n",
    "if $f(x^{(i)}) < 0.5$, predict $y^{(i)}=0$"
   ]
  },
  {
   "cell_type": "code",
   "execution_count": 20,
   "metadata": {},
   "outputs": [],
   "source": [
    "def predict(X, w, b):\n",
    "    \"\"\"Make predictions using the logistic regression model\"\"\"\n",
    "    z = np.dot(X, w) + b\n",
    "    predictions = sigmoid(z)\n",
    "    predictions[predictions >= 0.5] = 1\n",
    "    predictions[predictions < 0.5] = 0\n",
    "    return predictions"
   ]
  },
  {
   "cell_type": "code",
   "execution_count": 21,
   "metadata": {},
   "outputs": [],
   "source": [
    "def accuracy(y_true, y_pred):\n",
    "    \"\"\"Calculate the accuracy of the predictions\"\"\"\n",
    "    return np.mean(y_true == y_pred)"
   ]
  },
  {
   "cell_type": "markdown",
   "metadata": {},
   "source": [
    "# Running"
   ]
  },
  {
   "cell_type": "code",
   "execution_count": 22,
   "metadata": {},
   "outputs": [
    {
     "data": {
      "text/plain": [
       "((6, 2), (2, 2), (6,), (2,))"
      ]
     },
     "execution_count": 22,
     "metadata": {},
     "output_type": "execute_result"
    }
   ],
   "source": [
    "from sklearn.model_selection import train_test_split\n",
    "\n",
    "X_train, X_test, y_train, y_test = train_test_split(X_train, y_train, test_size=0.2, random_state=42)\n",
    "X_train.shape, X_test.shape, y_train.shape, y_test.shape"
   ]
  },
  {
   "cell_type": "code",
   "execution_count": 23,
   "metadata": {},
   "outputs": [
    {
     "name": "stdout",
     "output_type": "stream",
     "text": [
      "Iteration 0: Cost = 0.6836231962539023\n",
      "Iteration 1000: Cost = 0.16058815460335124\n",
      "Iteration 2000: Cost = 0.08541524187152706\n",
      "Iteration 3000: Cost = 0.05754170026754142\n",
      "Iteration 4000: Cost = 0.043234367692968206\n",
      "Iteration 5000: Cost = 0.03457415009569861\n",
      "Iteration 6000: Cost = 0.028782936240572446\n",
      "Iteration 7000: Cost = 0.024643062963684827\n",
      "Iteration 8000: Cost = 0.021538766733987885\n",
      "Iteration 9000: Cost = 0.019125867279709767\n",
      "\n",
      "updated parameters: w:[5.27999895 5.06122533], b:-14.20024317316942\n"
     ]
    }
   ],
   "source": [
    "# Train the model\n",
    "w_tmp = np.zeros_like(X_train[0])\n",
    "b_tmp = 0.\n",
    "alpha = 0.1\n",
    "iters = 10000\n",
    "w_out, b_out, _ = get_gradient_descent(X_train, y_train, w_tmp, b_tmp, alpha, iters) \n",
    "print(f\"\\nupdated parameters: w:{w_out}, b:{b_out}\")"
   ]
  },
  {
   "cell_type": "code",
   "execution_count": 24,
   "metadata": {},
   "outputs": [
    {
     "data": {
      "text/plain": [
       "array([0., 1.])"
      ]
     },
     "execution_count": 24,
     "metadata": {},
     "output_type": "execute_result"
    }
   ],
   "source": [
    "# Make predictions on the test set\n",
    "y_pred = predict(X_test, w_out, b_out)\n",
    "y_pred"
   ]
  },
  {
   "cell_type": "code",
   "execution_count": 25,
   "metadata": {},
   "outputs": [
    {
     "name": "stdout",
     "output_type": "stream",
     "text": [
      "Test Accuracy: 1.0\n"
     ]
    }
   ],
   "source": [
    "# Evaluate the model\n",
    "acc = accuracy(y_test, y_pred)\n",
    "print(f\"Test Accuracy: {acc}\")"
   ]
  },
  {
   "cell_type": "markdown",
   "metadata": {},
   "source": [
    "## Plot"
   ]
  },
  {
   "cell_type": "code",
   "execution_count": 43,
   "metadata": {},
   "outputs": [
    {
     "data": {
      "image/png": "[encoded data removed]",
      "text/plain": [
       "<Figure size 800x480 with 1 Axes>"
      ]
     },
     "metadata": {},
     "output_type": "display_data"
    }
   ],
   "source": [
    "plt.figure(figsize=(10, 6))\n",
    "\n",
    "sns.scatterplot(\n",
    "    x=X_train[:, 0], \n",
    "    y=X_train[:, 1], \n",
    "    hue=y_train, \n",
    "    palette='Set1',\n",
    "    s=100,\n",
    "    edgecolor='black',\n",
    "    linewidth=.7,\n",
    "    alpha=.7,)\n",
    "\n",
    "sns.scatterplot(\n",
    "    x=X_test[:, 0], \n",
    "    y=X_test[:, 1], \n",
    "    hue=y_test,\n",
    "    marker='X',\n",
    "    palette='Set1',\n",
    "    s=100,\n",
    "    alpha=.7,\n",
    "    edgecolor='black',\n",
    "    linewidth=.7,\n",
    "    legend=False,\n",
    ")\n",
    "\n",
    "plt.xlabel('Feature 1')\n",
    "plt.ylabel('Feature 2')\n",
    "plt.title('Training data')\n",
    "\n",
    "x0 = -b_out / w_out[0]\n",
    "x1 = -b_out / w_out[1]\n",
    "\n",
    "plt.plot([0, x1], [x1, 0], 'k--', label='Decision Boundary')\n",
    "plt.legend()\n",
    "plt.show()"
   ]
  }
 ],
 "metadata": {
  "kernelspec": {
   "display_name": "Python 3",
   "language": "python",
   "name": "python3"
  },
  "language_info": {
   "codemirror_mode": {
    "name": "ipython",
    "version": 3
   },
   "file_extension": ".py",
   "mimetype": "text/x-python",
   "name": "python",
   "nbconvert_exporter": "python",
   "pygments_lexer": "ipython3",
   "version": "3.12.0"
  },
  "orig_nbformat": 4
 },
 "nbformat": 4,
 "nbformat_minor": 2
}
