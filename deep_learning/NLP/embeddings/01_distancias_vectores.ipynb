{
 "cells": [
  {
   "cell_type": "markdown",
   "metadata": {},
   "source": [
    "# Calculo de distancias de Vectores con numpy"
   ]
  },
  {
   "cell_type": "code",
   "execution_count": 1,
   "metadata": {},
   "outputs": [],
   "source": [
    "import numpy as np"
   ]
  },
  {
   "cell_type": "code",
   "execution_count": 2,
   "metadata": {},
   "outputs": [],
   "source": [
    "gato = np.array([0.9, 0.8, 0.2])\n",
    "perro = np.array([0.8, 0.85, 0.15])\n",
    "computadora = np.array([0.1, 0.3, 0.9])"
   ]
  },
  {
   "cell_type": "markdown",
   "metadata": {},
   "source": [
    "## Dot Product"
   ]
  },
  {
   "cell_type": "code",
   "execution_count": 3,
   "metadata": {},
   "outputs": [
    {
     "name": "stdout",
     "output_type": "stream",
     "text": [
      "El producto punto entre gato y perro es:  1.4300000000000002\n",
      "El producto punto entre gato y computadora es:  0.51\n"
     ]
    }
   ],
   "source": [
    "dot_gato_perro = np.dot(gato, perro)\n",
    "dot_gato_computadora = np.dot(gato, computadora)\n",
    "\n",
    "print(\"El producto punto entre gato y perro es: \", dot_gato_perro)\n",
    "print(\"El producto punto entre gato y computadora es: \", dot_gato_computadora)"
   ]
  },
  {
   "cell_type": "markdown",
   "metadata": {},
   "source": [
    "## Euclidean distance"
   ]
  },
  {
   "cell_type": "code",
   "execution_count": 4,
   "metadata": {},
   "outputs": [
    {
     "name": "stdout",
     "output_type": "stream",
     "text": [
      "La distancia euclidiana entre gato y perro es:  0.12247448713915887\n",
      "La distancia euclidiana entre gato y computadora es:  1.174734012447073\n"
     ]
    }
   ],
   "source": [
    "euclidean_gato_perro = np.linalg.norm(gato - perro)\n",
    "euclidean_gato_computadora = np.linalg.norm(gato - computadora)\n",
    "\n",
    "print(\"La distancia euclidiana entre gato y perro es: \", euclidean_gato_perro)\n",
    "print(\"La distancia euclidiana entre gato y computadora es: \", euclidean_gato_computadora)"
   ]
  },
  {
   "cell_type": "markdown",
   "metadata": {},
   "source": [
    "## Cosine similarity"
   ]
  },
  {
   "cell_type": "code",
   "execution_count": 5,
   "metadata": {},
   "outputs": [
    {
     "name": "stdout",
     "output_type": "stream",
     "text": [
      "El coseno entre gato y perro es:  0.9954467122628464\n"
     ]
    }
   ],
   "source": [
    "dot_gato_perro = np.dot(gato, perro)\n",
    "\n",
    "norm_gato = np.linalg.norm(gato)\n",
    "norm_perro = np.linalg.norm(perro)\n",
    "\n",
    "cosine_gato_perro = dot_gato_perro / (norm_gato * norm_perro)\n",
    "\n",
    "print(\"El coseno entre gato y perro es: \", cosine_gato_perro)"
   ]
  },
  {
   "cell_type": "code",
   "execution_count": 6,
   "metadata": {},
   "outputs": [
    {
     "name": "stdout",
     "output_type": "stream",
     "text": [
      "El coseno entre gato y computadora es:  0.4379820840197298\n"
     ]
    }
   ],
   "source": [
    "dot_gato_computadora = np.dot(gato, computadora)\n",
    "\n",
    "norm_computadora = np.linalg.norm(computadora)\n",
    "\n",
    "cosine_gato_computadora = dot_gato_computadora / (norm_gato * norm_computadora)\n",
    "\n",
    "print(\"El coseno entre gato y computadora es: \", cosine_gato_computadora)"
   ]
  }
 ],
 "metadata": {
  "kernelspec": {
   "display_name": "Python 3",
   "language": "python",
   "name": "python3"
  },
  "language_info": {
   "codemirror_mode": {
    "name": "ipython",
    "version": 3
   },
   "file_extension": ".py",
   "mimetype": "text/x-python",
   "name": "python",
   "nbconvert_exporter": "python",
   "pygments_lexer": "ipython3",
   "version": "3.12.4"
  }
 },
 "nbformat": 4,
 "nbformat_minor": 2
}
